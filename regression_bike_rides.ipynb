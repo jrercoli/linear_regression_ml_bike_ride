{
  "nbformat": 4,
  "nbformat_minor": 0,
  "metadata": {
    "colab": {
      "name": "regression_bike_rides.ipynb",
      "provenance": [],
      "collapsed_sections": []
    },
    "kernelspec": {
      "name": "python3",
      "display_name": "Python 3"
    },
    "language_info": {
      "name": "python"
    }
  },
  "cells": [
    {
      "cell_type": "markdown",
      "metadata": {
        "id": "LqBypRRiuudj"
      },
      "source": [
        "Linear Regression\n",
        "\n",
        "I want to know how many **hs_day** of bike rides are made in: a type of day (WEND, LPH, LNPH) with an average temp. (tavg feature) given. Then add a second feature (bike_rides_day) to improve the model"
      ]
    },
    {
      "cell_type": "code",
      "metadata": {
        "id": "rZ4GOf6iue42"
      },
      "source": [
        "import matplotlib.pyplot as plt\n",
        "import pandas as pd\n",
        "import numpy as np\n",
        "import seaborn as sns\n",
        "from sklearn.model_selection import train_test_split\n",
        "from sklearn.linear_model import LinearRegression\n",
        "from sklearn.metrics import mean_squared_error, r2_score\n",
        "from sklearn import preprocessing\n",
        "\n",
        "%matplotlib notebook"
      ],
      "execution_count": 1,
      "outputs": []
    },
    {
      "cell_type": "code",
      "metadata": {
        "id": "TxUhyVlpxHEf",
        "colab": {
          "base_uri": "https://localhost:8080/"
        },
        "outputId": "d598390b-ba67-41a7-9873-1c05d817f1aa"
      },
      "source": [
        "from google.colab import drive\n",
        "drive.mount('/gdrive')\n",
        "%cd /gdrive/MyDrive"
      ],
      "execution_count": 2,
      "outputs": [
        {
          "output_type": "stream",
          "text": [
            "Mounted at /gdrive\n",
            "/gdrive/MyDrive\n"
          ],
          "name": "stdout"
        }
      ]
    },
    {
      "cell_type": "code",
      "metadata": {
        "id": "zLbqNJAPxIWW",
        "colab": {
          "base_uri": "https://localhost:8080/",
          "height": 404
        },
        "outputId": "dd08abe9-a11e-46d1-a741-526272228846"
      },
      "source": [
        "br_data = pd.read_csv('./br2018_resume.csv')\n",
        "br_data"
      ],
      "execution_count": 3,
      "outputs": [
        {
          "output_type": "execute_result",
          "data": {
            "text/html": [
              "<div>\n",
              "<style scoped>\n",
              "    .dataframe tbody tr th:only-of-type {\n",
              "        vertical-align: middle;\n",
              "    }\n",
              "\n",
              "    .dataframe tbody tr th {\n",
              "        vertical-align: top;\n",
              "    }\n",
              "\n",
              "    .dataframe thead th {\n",
              "        text-align: right;\n",
              "    }\n",
              "</style>\n",
              "<table border=\"1\" class=\"dataframe\">\n",
              "  <thead>\n",
              "    <tr style=\"text-align: right;\">\n",
              "      <th></th>\n",
              "      <th>duration_sum</th>\n",
              "      <th>duration_count</th>\n",
              "      <th>type_day</th>\n",
              "      <th>hs_day</th>\n",
              "      <th>tavg</th>\n",
              "      <th>tmin</th>\n",
              "      <th>tmax</th>\n",
              "      <th>prcp</th>\n",
              "      <th>snow</th>\n",
              "      <th>wdir</th>\n",
              "      <th>wspd</th>\n",
              "      <th>wpgt</th>\n",
              "      <th>pres</th>\n",
              "      <th>tsun</th>\n",
              "      <th>mean_hs_dayType</th>\n",
              "    </tr>\n",
              "  </thead>\n",
              "  <tbody>\n",
              "    <tr>\n",
              "      <th>0</th>\n",
              "      <td>61 days 15:15:00.999999910</td>\n",
              "      <td>2079</td>\n",
              "      <td>WEND</td>\n",
              "      <td>1479.250000</td>\n",
              "      <td>22.2</td>\n",
              "      <td>17.5</td>\n",
              "      <td>NaN</td>\n",
              "      <td>NaN</td>\n",
              "      <td>NaN</td>\n",
              "      <td>NaN</td>\n",
              "      <td>NaN</td>\n",
              "      <td>NaN</td>\n",
              "      <td>NaN</td>\n",
              "      <td>NaN</td>\n",
              "      <td>0.711520</td>\n",
              "    </tr>\n",
              "    <tr>\n",
              "      <th>1</th>\n",
              "      <td>46 days 04:03:17.999999935</td>\n",
              "      <td>2492</td>\n",
              "      <td>LNPH</td>\n",
              "      <td>1108.054722</td>\n",
              "      <td>25.4</td>\n",
              "      <td>18.6</td>\n",
              "      <td>NaN</td>\n",
              "      <td>NaN</td>\n",
              "      <td>NaN</td>\n",
              "      <td>NaN</td>\n",
              "      <td>NaN</td>\n",
              "      <td>NaN</td>\n",
              "      <td>NaN</td>\n",
              "      <td>NaN</td>\n",
              "      <td>0.444645</td>\n",
              "    </tr>\n",
              "    <tr>\n",
              "      <th>2</th>\n",
              "      <td>29 days 00:02:28.999999954</td>\n",
              "      <td>1585</td>\n",
              "      <td>LPH</td>\n",
              "      <td>696.041111</td>\n",
              "      <td>25.4</td>\n",
              "      <td>18.6</td>\n",
              "      <td>NaN</td>\n",
              "      <td>NaN</td>\n",
              "      <td>NaN</td>\n",
              "      <td>NaN</td>\n",
              "      <td>NaN</td>\n",
              "      <td>NaN</td>\n",
              "      <td>NaN</td>\n",
              "      <td>NaN</td>\n",
              "      <td>0.439143</td>\n",
              "    </tr>\n",
              "    <tr>\n",
              "      <th>3</th>\n",
              "      <td>55 days 07:18:23.999999937</td>\n",
              "      <td>2962</td>\n",
              "      <td>LNPH</td>\n",
              "      <td>1327.306389</td>\n",
              "      <td>26.1</td>\n",
              "      <td>16.9</td>\n",
              "      <td>33.0</td>\n",
              "      <td>NaN</td>\n",
              "      <td>NaN</td>\n",
              "      <td>NaN</td>\n",
              "      <td>NaN</td>\n",
              "      <td>NaN</td>\n",
              "      <td>NaN</td>\n",
              "      <td>NaN</td>\n",
              "      <td>0.448112</td>\n",
              "    </tr>\n",
              "    <tr>\n",
              "      <th>4</th>\n",
              "      <td>34 days 06:31:08.999999976</td>\n",
              "      <td>1890</td>\n",
              "      <td>LPH</td>\n",
              "      <td>822.518889</td>\n",
              "      <td>26.1</td>\n",
              "      <td>16.9</td>\n",
              "      <td>33.0</td>\n",
              "      <td>NaN</td>\n",
              "      <td>NaN</td>\n",
              "      <td>NaN</td>\n",
              "      <td>NaN</td>\n",
              "      <td>NaN</td>\n",
              "      <td>NaN</td>\n",
              "      <td>NaN</td>\n",
              "      <td>0.435195</td>\n",
              "    </tr>\n",
              "    <tr>\n",
              "      <th>...</th>\n",
              "      <td>...</td>\n",
              "      <td>...</td>\n",
              "      <td>...</td>\n",
              "      <td>...</td>\n",
              "      <td>...</td>\n",
              "      <td>...</td>\n",
              "      <td>...</td>\n",
              "      <td>...</td>\n",
              "      <td>...</td>\n",
              "      <td>...</td>\n",
              "      <td>...</td>\n",
              "      <td>...</td>\n",
              "      <td>...</td>\n",
              "      <td>...</td>\n",
              "      <td>...</td>\n",
              "    </tr>\n",
              "    <tr>\n",
              "      <th>604</th>\n",
              "      <td>21 days 18:57:48</td>\n",
              "      <td>1711</td>\n",
              "      <td>LPH</td>\n",
              "      <td>522.963333</td>\n",
              "      <td>27.7</td>\n",
              "      <td>24.0</td>\n",
              "      <td>31.7</td>\n",
              "      <td>NaN</td>\n",
              "      <td>NaN</td>\n",
              "      <td>NaN</td>\n",
              "      <td>NaN</td>\n",
              "      <td>NaN</td>\n",
              "      <td>NaN</td>\n",
              "      <td>NaN</td>\n",
              "      <td>0.305648</td>\n",
              "    </tr>\n",
              "    <tr>\n",
              "      <th>605</th>\n",
              "      <td>34 days 21:45:53</td>\n",
              "      <td>2709</td>\n",
              "      <td>LNPH</td>\n",
              "      <td>837.764722</td>\n",
              "      <td>26.8</td>\n",
              "      <td>23.3</td>\n",
              "      <td>31.6</td>\n",
              "      <td>NaN</td>\n",
              "      <td>NaN</td>\n",
              "      <td>NaN</td>\n",
              "      <td>NaN</td>\n",
              "      <td>NaN</td>\n",
              "      <td>NaN</td>\n",
              "      <td>NaN</td>\n",
              "      <td>0.309252</td>\n",
              "    </tr>\n",
              "    <tr>\n",
              "      <th>606</th>\n",
              "      <td>20 days 18:42:45</td>\n",
              "      <td>1632</td>\n",
              "      <td>LPH</td>\n",
              "      <td>498.712500</td>\n",
              "      <td>26.8</td>\n",
              "      <td>23.3</td>\n",
              "      <td>31.6</td>\n",
              "      <td>NaN</td>\n",
              "      <td>NaN</td>\n",
              "      <td>NaN</td>\n",
              "      <td>NaN</td>\n",
              "      <td>NaN</td>\n",
              "      <td>NaN</td>\n",
              "      <td>NaN</td>\n",
              "      <td>0.305584</td>\n",
              "    </tr>\n",
              "    <tr>\n",
              "      <th>607</th>\n",
              "      <td>32 days 14:09:37</td>\n",
              "      <td>2598</td>\n",
              "      <td>WEND</td>\n",
              "      <td>782.160278</td>\n",
              "      <td>26.1</td>\n",
              "      <td>20.5</td>\n",
              "      <td>30.7</td>\n",
              "      <td>23.9</td>\n",
              "      <td>NaN</td>\n",
              "      <td>NaN</td>\n",
              "      <td>NaN</td>\n",
              "      <td>NaN</td>\n",
              "      <td>NaN</td>\n",
              "      <td>NaN</td>\n",
              "      <td>0.301062</td>\n",
              "    </tr>\n",
              "    <tr>\n",
              "      <th>608</th>\n",
              "      <td>20 days 07:43:06</td>\n",
              "      <td>1551</td>\n",
              "      <td>WEND</td>\n",
              "      <td>487.718333</td>\n",
              "      <td>24.2</td>\n",
              "      <td>18.9</td>\n",
              "      <td>30.2</td>\n",
              "      <td>31.0</td>\n",
              "      <td>NaN</td>\n",
              "      <td>NaN</td>\n",
              "      <td>NaN</td>\n",
              "      <td>NaN</td>\n",
              "      <td>NaN</td>\n",
              "      <td>NaN</td>\n",
              "      <td>0.314454</td>\n",
              "    </tr>\n",
              "  </tbody>\n",
              "</table>\n",
              "<p>609 rows × 15 columns</p>\n",
              "</div>"
            ],
            "text/plain": [
              "                   duration_sum  duration_count  ... tsun  mean_hs_dayType\n",
              "0    61 days 15:15:00.999999910            2079  ...  NaN         0.711520\n",
              "1    46 days 04:03:17.999999935            2492  ...  NaN         0.444645\n",
              "2    29 days 00:02:28.999999954            1585  ...  NaN         0.439143\n",
              "3    55 days 07:18:23.999999937            2962  ...  NaN         0.448112\n",
              "4    34 days 06:31:08.999999976            1890  ...  NaN         0.435195\n",
              "..                          ...             ...  ...  ...              ...\n",
              "604            21 days 18:57:48            1711  ...  NaN         0.305648\n",
              "605            34 days 21:45:53            2709  ...  NaN         0.309252\n",
              "606            20 days 18:42:45            1632  ...  NaN         0.305584\n",
              "607            32 days 14:09:37            2598  ...  NaN         0.301062\n",
              "608            20 days 07:43:06            1551  ...  NaN         0.314454\n",
              "\n",
              "[609 rows x 15 columns]"
            ]
          },
          "metadata": {
            "tags": []
          },
          "execution_count": 3
        }
      ]
    },
    {
      "cell_type": "code",
      "metadata": {
        "id": "tJax1sj3dkdC"
      },
      "source": [
        "# rename duration_count = bike rides per day\n",
        "br_data.rename(columns={'duration_count': 'bike_rides_day'}, inplace=True)"
      ],
      "execution_count": 4,
      "outputs": []
    },
    {
      "cell_type": "code",
      "metadata": {
        "colab": {
          "base_uri": "https://localhost:8080/"
        },
        "id": "0gfs3qGII2sV",
        "outputId": "b0f2256e-f89c-4373-97a5-126b64031063"
      },
      "source": [
        "# check for nan values in column\n",
        "\n",
        "#br_data['tavg'].isnull().values.any()\n",
        "br_data['tavg'].isna().sum()"
      ],
      "execution_count": 5,
      "outputs": [
        {
          "output_type": "execute_result",
          "data": {
            "text/plain": [
              "13"
            ]
          },
          "metadata": {
            "tags": []
          },
          "execution_count": 5
        }
      ]
    },
    {
      "cell_type": "code",
      "metadata": {
        "id": "G0ZzQVNEJk3d"
      },
      "source": [
        "# put before row value in NaN values\n",
        "br_data['tavg'].bfill(axis=0, inplace=True)"
      ],
      "execution_count": 6,
      "outputs": []
    },
    {
      "cell_type": "code",
      "metadata": {
        "id": "_GnPP6Lt-yYJ"
      },
      "source": [
        "#Build 3 df , one per day type\n",
        "df_WE = br_data[br_data['type_day']=='WEND']\n",
        "df_LPH = br_data[br_data['type_day']=='LPH']\n",
        "df_LNPH = br_data[br_data['type_day']=='LNPH']"
      ],
      "execution_count": 7,
      "outputs": []
    },
    {
      "cell_type": "code",
      "metadata": {
        "colab": {
          "base_uri": "https://localhost:8080/",
          "height": 241
        },
        "id": "zHxOJwPkC6yh",
        "outputId": "c7117457-b394-4bf1-f2f5-2c0cf9a58c66"
      },
      "source": [
        "# hours bike ride per day VS avg.temp.\n",
        "g = sns.FacetGrid(br_data, col=\"type_day\")\n",
        "g.map(sns.scatterplot, \"tavg\", \"hs_day\", alpha=.7)\n",
        "g.add_legend()"
      ],
      "execution_count": 8,
      "outputs": [
        {
          "output_type": "execute_result",
          "data": {
            "text/plain": [
              "<seaborn.axisgrid.FacetGrid at 0x7fd33cf69510>"
            ]
          },
          "metadata": {
            "tags": []
          },
          "execution_count": 8
        },
        {
          "output_type": "display_data",
          "data": {
            "image/png": "[encoded data removed]",
            "text/plain": [
              "<Figure size 656x216 with 3 Axes>"
            ]
          },
          "metadata": {
            "tags": [],
            "needs_background": "light"
          }
        }
      ]
    },
    {
      "cell_type": "code",
      "metadata": {
        "colab": {
          "base_uri": "https://localhost:8080/",
          "height": 241
        },
        "id": "gLnnRKG3B8GG",
        "outputId": "a65833cd-766f-4562-b1f3-fe6cf9ec62c4"
      },
      "source": [
        "# bike rides per day (count) VS avg.temp.\n",
        "g = sns.FacetGrid(br_data, col=\"type_day\")\n",
        "g.map(sns.scatterplot, \"bike_rides_day\", \"hs_day\", alpha=.7)\n",
        "g.add_legend()"
      ],
      "execution_count": 9,
      "outputs": [
        {
          "output_type": "execute_result",
          "data": {
            "text/plain": [
              "<seaborn.axisgrid.FacetGrid at 0x7fd33cf69050>"
            ]
          },
          "metadata": {
            "tags": []
          },
          "execution_count": 9
        },
        {
          "output_type": "display_data",
          "data": {
            "image/png": "[encoded data removed]",
            "text/plain": [
              "<Figure size 656x216 with 3 Axes>"
            ]
          },
          "metadata": {
            "tags": [],
            "needs_background": "light"
          }
        }
      ]
    },
    {
      "cell_type": "code",
      "metadata": {
        "colab": {
          "base_uri": "https://localhost:8080/",
          "height": 996
        },
        "id": "_WBm4HoMGweT",
        "outputId": "db712467-0a5d-4309-db5f-5f165120f073"
      },
      "source": [
        "g = sns.lmplot(x=\"tavg\", y=\"hs_day\", hue=\"type_day\", data=br_data)\n",
        "g = (g.set_axis_labels(\"Avg. temperature (grades)\", \"Bike rides x hours\"))\n",
        "fig = plt.gcf()\n",
        "ax = plt.gca()\n",
        "ax.set_title(\"Time of bike rides (hs) / Avg.Temperature correlation (by day type) in Buenos Aires, 2018\")\n",
        "fig.set_size_inches(13, 7)\n",
        "plt.xticks(range(5, 32))"
      ],
      "execution_count": null,
      "outputs": [
        {
          "output_type": "execute_result",
          "data": {
            "text/plain": [
              "([<matplotlib.axis.XTick at 0x7fe55af1bfd0>,\n",
              "  <matplotlib.axis.XTick at 0x7fe55af1bf90>,\n",
              "  <matplotlib.axis.XTick at 0x7fe55af38f90>,\n",
              "  <matplotlib.axis.XTick at 0x7fe5596c2a10>,\n",
              "  <matplotlib.axis.XTick at 0x7fe5596c2f10>,\n",
              "  <matplotlib.axis.XTick at 0x7fe5596c2a90>,\n",
              "  <matplotlib.axis.XTick at 0x7fe5596def10>,\n",
              "  <matplotlib.axis.XTick at 0x7fe55af1bb50>,\n",
              "  <matplotlib.axis.XTick at 0x7fe559680810>,\n",
              "  <matplotlib.axis.XTick at 0x7fe5596989d0>,\n",
              "  <matplotlib.axis.XTick at 0x7fe55969f650>,\n",
              "  <matplotlib.axis.XTick at 0x7fe55969fb90>,\n",
              "  <matplotlib.axis.XTick at 0x7fe55969f750>,\n",
              "  <matplotlib.axis.XTick at 0x7fe5596a6650>,\n",
              "  <matplotlib.axis.XTick at 0x7fe5596a6b90>,\n",
              "  <matplotlib.axis.XTick at 0x7fe5596a6750>,\n",
              "  <matplotlib.axis.XTick at 0x7fe5596a62d0>,\n",
              "  <matplotlib.axis.XTick at 0x7fe55969f810>,\n",
              "  <matplotlib.axis.XTick at 0x7fe5596988d0>,\n",
              "  <matplotlib.axis.XTick at 0x7fe559698110>,\n",
              "  <matplotlib.axis.XTick at 0x7fe559695610>,\n",
              "  <matplotlib.axis.XTick at 0x7fe5596ae090>,\n",
              "  <matplotlib.axis.XTick at 0x7fe5596aedd0>,\n",
              "  <matplotlib.axis.XTick at 0x7fe5596b8350>,\n",
              "  <matplotlib.axis.XTick at 0x7fe5596b8890>,\n",
              "  <matplotlib.axis.XTick at 0x7fe5596b8dd0>,\n",
              "  <matplotlib.axis.XTick at 0x7fe5596b8950>],\n",
              " <a list of 27 Text major ticklabel objects>)"
            ]
          },
          "metadata": {
            "tags": []
          },
          "execution_count": 14
        },
        {
          "output_type": "display_data",
          "data": {
            "image/png": "[encoded data removed]",
            "text/plain": [
              "<Figure size 936x504 with 1 Axes>"
            ]
          },
          "metadata": {
            "tags": [],
            "needs_background": "light"
          }
        }
      ]
    },
    {
      "cell_type": "code",
      "metadata": {
        "id": "s79MvZKGcw0a"
      },
      "source": [
        "# X only with 1 feature\n",
        "X = df_LPH[['tavg']]\n",
        "y = df_LPH['hs_day']\n",
        "X_train, X_test, y_train, y_test = train_test_split(X, y)"
      ],
      "execution_count": null,
      "outputs": []
    },
    {
      "cell_type": "code",
      "metadata": {
        "colab": {
          "base_uri": "https://localhost:8080/"
        },
        "id": "x0OlBb4MMDJL",
        "outputId": "265036db-6c74-4592-ed3c-f89d466ae1c3"
      },
      "source": [
        "X_train.count()"
      ],
      "execution_count": null,
      "outputs": [
        {
          "output_type": "execute_result",
          "data": {
            "text/plain": [
              "tavg    183\n",
              "dtype: int64"
            ]
          },
          "metadata": {
            "tags": []
          },
          "execution_count": 20
        }
      ]
    },
    {
      "cell_type": "code",
      "metadata": {
        "id": "ON9DkgGZHzBw"
      },
      "source": [
        "# create linear regression model, fit and predict \n",
        "\n",
        "regressor = LinearRegression()\n",
        "regressor.fit(X_train, y_train)\n",
        "y_pred = regressor.predict(X_test)"
      ],
      "execution_count": null,
      "outputs": []
    },
    {
      "cell_type": "code",
      "metadata": {
        "colab": {
          "base_uri": "https://localhost:8080/"
        },
        "id": "jFnd03T1LxUa",
        "outputId": "366541d0-05ab-4e82-b4e6-966218acc66f"
      },
      "source": [
        "print(y_pred)"
      ],
      "execution_count": null,
      "outputs": [
        {
          "output_type": "stream",
          "text": [
            "[1421.52988911 1142.56992171  915.26920753 1111.57436978 1311.32348224\n",
            " 1218.33682644 1362.98273546 1187.34127451 1228.66867708  987.59216204\n",
            "  963.48451054 1380.20248654 1397.42223761 1349.2069346   904.93735689\n",
            "  898.04945646 1094.3546187  1393.9782874   935.93290882 1132.23807107\n",
            " 1149.45782214 1056.47116634  973.81636118 1387.09038697 1214.89287622\n",
            " 1521.40444534 1001.3679629  1342.31903417 1032.36351484 1452.52544105\n",
            " 1266.55212945 1035.80746505 1001.3679629   863.60995431 1135.68202128\n",
            " 1090.91066849 1214.89287622 1152.90177236 1177.00942386 1256.2202788\n",
            " 1435.30568997 1211.44892601  842.94625302 1001.3679629   873.94180495\n",
            "  736.18379636 1214.89287622 1469.74519212 1304.43558181 1115.01831999\n",
            " 1435.30568997 1146.01387193 1352.65088482 1249.33237837 1294.10373117\n",
            " 1297.54768138 1108.13041956 1063.35906677 1225.22472687  929.04500839\n",
            "  929.04500839  929.04500839]\n"
          ],
          "name": "stdout"
        }
      ]
    },
    {
      "cell_type": "code",
      "metadata": {
        "colab": {
          "base_uri": "https://localhost:8080/"
        },
        "id": "AXMq_xPOMaiY",
        "outputId": "193a95a1-522b-4553-908d-fad6baeac97b"
      },
      "source": [
        "model_r2_score = regressor.score(X_test, y_test)\n",
        "print(f'R-squared: {model_r2_score}' )"
      ],
      "execution_count": null,
      "outputs": [
        {
          "output_type": "stream",
          "text": [
            "R-squared: 0.19552131529170358\n"
          ],
          "name": "stdout"
        }
      ]
    },
    {
      "cell_type": "code",
      "metadata": {
        "colab": {
          "base_uri": "https://localhost:8080/"
        },
        "id": "z9X0EaV2OUat",
        "outputId": "dd232124-30cc-489f-d4ff-ffeaa7dbcc3c"
      },
      "source": [
        "from sklearn.model_selection import cross_val_score\n",
        "\n",
        "cv_scores = cross_val_score(regressor, X, y, cv=6)\n",
        "print(f'CV scores list: {cv_scores}')\n",
        "print(f'Mean R-squared with 6 CV scores: {np.mean(cv_scores)}' )"
      ],
      "execution_count": null,
      "outputs": [
        {
          "output_type": "stream",
          "text": [
            "CV scores list: [-8.95187249 -0.71470552 -0.19631474 -0.31294776 -4.40273386  0.02097643]\n",
            "Mean R-squared with 6 CV scores: -2.4262663217939244\n"
          ],
          "name": "stdout"
        }
      ]
    },
    {
      "cell_type": "code",
      "metadata": {
        "id": "N2DgYWhkLG79"
      },
      "source": [
        "# X with 2 features\n",
        "X2 = df_LPH[['bike_rides_day','tavg']]\n",
        "y2 = df_LPH['hs_day']\n",
        "X2_train, X2_test, y2_train, y2_test = train_test_split(X2, y2)"
      ],
      "execution_count": null,
      "outputs": []
    },
    {
      "cell_type": "code",
      "metadata": {
        "id": "wC6UaT60hJgp"
      },
      "source": [
        "# create linear regression model for 2 features in X, fit and predict \n",
        "\n",
        "regressor2 = LinearRegression()\n",
        "regressor2.fit(X2_train, y2_train)\n",
        "y2_pred = regressor2.predict(X2_test)"
      ],
      "execution_count": null,
      "outputs": []
    },
    {
      "cell_type": "code",
      "metadata": {
        "colab": {
          "base_uri": "https://localhost:8080/"
        },
        "id": "IG1PDx43hwkr",
        "outputId": "b8f6d671-0c76-4ead-9609-a4ab4e523c3a"
      },
      "source": [
        "model_r2_score = regressor2.score(X2_test, y2_test)\n",
        "print(f'R-squared: {model_r2_score}' )"
      ],
      "execution_count": null,
      "outputs": [
        {
          "output_type": "stream",
          "text": [
            "R-squared: 0.9597724505319959\n"
          ],
          "name": "stdout"
        }
      ]
    },
    {
      "cell_type": "code",
      "metadata": {
        "colab": {
          "base_uri": "https://localhost:8080/"
        },
        "id": "qri0a7fXh--w",
        "outputId": "ecf05ab0-6778-41b0-bf3d-7cf3cfcfba43"
      },
      "source": [
        "cv_scores = cross_val_score(regressor2, X2, y2, cv=6)\n",
        "print(f'CV scores list: {cv_scores}')\n",
        "print(f'Mean R-squared with 6 CV scores: {np.mean(cv_scores)}' )"
      ],
      "execution_count": null,
      "outputs": [
        {
          "output_type": "stream",
          "text": [
            "CV scores list: [0.40073867 0.95355093 0.92916654 0.97397186 0.83496845 0.83116272]\n",
            "Mean R-squared with 6 CV scores: 0.8205931950492525\n"
          ],
          "name": "stdout"
        }
      ]
    },
    {
      "cell_type": "code",
      "metadata": {
        "colab": {
          "base_uri": "https://localhost:8080/"
        },
        "id": "Zdit-62DyO0E",
        "outputId": "880b586a-77c1-4ea7-9e37-e77fe90eab4e"
      },
      "source": [
        "coef = regressor2.coef_\n",
        "intercept = regressor2.intercept_\n",
        "print(f'Intercept: {intercept} - Slope: {coef}')"
      ],
      "execution_count": null,
      "outputs": [
        {
          "output_type": "stream",
          "text": [
            "Intercept: -149.06483526276838 - Slope: [0.38677462 5.96006047]\n"
          ],
          "name": "stdout"
        }
      ]
    },
    {
      "cell_type": "code",
      "metadata": {
        "id": "za4wxfaJdbBp"
      },
      "source": [
        "# scale X values with MinMax\n",
        "scaler = preprocessing.MinMaxScaler()\n",
        "X2_train_scaled = scaler.fit_transform(X2_train)\n",
        "X2_test_scaled = scaler.fit_transform(X2_test)"
      ],
      "execution_count": null,
      "outputs": []
    },
    {
      "cell_type": "code",
      "metadata": {
        "colab": {
          "base_uri": "https://localhost:8080/"
        },
        "id": "WYlWJ8KteztS",
        "outputId": "e983d914-d6eb-4225-f8cf-7e6f89ba11ef"
      },
      "source": [
        "# Ridge regression, add regularization with alpha value (default 10)\n",
        "from sklearn.linear_model import Ridge\n",
        "ridge_regressor = Ridge(alpha=20.0).fit(X2_train, y2_train)\n",
        "print(f'R-squared: {ridge_regressor.score(X2_test, y2_test)}' )"
      ],
      "execution_count": null,
      "outputs": [
        {
          "output_type": "stream",
          "text": [
            "R-squared: 0.9597612729666329\n"
          ],
          "name": "stdout"
        }
      ]
    },
    {
      "cell_type": "markdown",
      "metadata": {
        "id": "M8vEmqvCyLJy"
      },
      "source": [
        "Create a dataframe with test and predicted values from regression model\n",
        "\n",
        "Then show in a 3d scatter graph"
      ]
    },
    {
      "cell_type": "code",
      "metadata": {
        "colab": {
          "base_uri": "https://localhost:8080/",
          "height": 404
        },
        "id": "vrHi8ZyrlC1f",
        "outputId": "a901de52-c6bd-4836-ffdc-58fef60b73da"
      },
      "source": [
        "# join in a df the X,y test values\n",
        "df_test = X2_test.join(y2_test)\n",
        "df_test['data_type'] = 'Test'\n",
        "df_test.reset_index(drop=True, inplace=True)\n",
        "df_test"
      ],
      "execution_count": null,
      "outputs": [
        {
          "output_type": "execute_result",
          "data": {
            "text/html": [
              "<div>\n",
              "<style scoped>\n",
              "    .dataframe tbody tr th:only-of-type {\n",
              "        vertical-align: middle;\n",
              "    }\n",
              "\n",
              "    .dataframe tbody tr th {\n",
              "        vertical-align: top;\n",
              "    }\n",
              "\n",
              "    .dataframe thead th {\n",
              "        text-align: right;\n",
              "    }\n",
              "</style>\n",
              "<table border=\"1\" class=\"dataframe\">\n",
              "  <thead>\n",
              "    <tr style=\"text-align: right;\">\n",
              "      <th></th>\n",
              "      <th>bike_rides_day</th>\n",
              "      <th>tavg</th>\n",
              "      <th>hs_day</th>\n",
              "      <th>data_type</th>\n",
              "    </tr>\n",
              "  </thead>\n",
              "  <tbody>\n",
              "    <tr>\n",
              "      <th>0</th>\n",
              "      <td>2241</td>\n",
              "      <td>19.8</td>\n",
              "      <td>741.320833</td>\n",
              "      <td>Test</td>\n",
              "    </tr>\n",
              "    <tr>\n",
              "      <th>1</th>\n",
              "      <td>2590</td>\n",
              "      <td>13.7</td>\n",
              "      <td>948.756389</td>\n",
              "      <td>Test</td>\n",
              "    </tr>\n",
              "    <tr>\n",
              "      <th>2</th>\n",
              "      <td>5628</td>\n",
              "      <td>21.4</td>\n",
              "      <td>2314.441667</td>\n",
              "      <td>Test</td>\n",
              "    </tr>\n",
              "    <tr>\n",
              "      <th>3</th>\n",
              "      <td>5428</td>\n",
              "      <td>20.7</td>\n",
              "      <td>2074.882222</td>\n",
              "      <td>Test</td>\n",
              "    </tr>\n",
              "    <tr>\n",
              "      <th>4</th>\n",
              "      <td>4758</td>\n",
              "      <td>11.8</td>\n",
              "      <td>1732.136667</td>\n",
              "      <td>Test</td>\n",
              "    </tr>\n",
              "    <tr>\n",
              "      <th>...</th>\n",
              "      <td>...</td>\n",
              "      <td>...</td>\n",
              "      <td>...</td>\n",
              "      <td>...</td>\n",
              "    </tr>\n",
              "    <tr>\n",
              "      <th>57</th>\n",
              "      <td>1942</td>\n",
              "      <td>20.2</td>\n",
              "      <td>586.918333</td>\n",
              "      <td>Test</td>\n",
              "    </tr>\n",
              "    <tr>\n",
              "      <th>58</th>\n",
              "      <td>2717</td>\n",
              "      <td>10.0</td>\n",
              "      <td>935.998889</td>\n",
              "      <td>Test</td>\n",
              "    </tr>\n",
              "    <tr>\n",
              "      <th>59</th>\n",
              "      <td>4575</td>\n",
              "      <td>21.7</td>\n",
              "      <td>1774.550000</td>\n",
              "      <td>Test</td>\n",
              "    </tr>\n",
              "    <tr>\n",
              "      <th>60</th>\n",
              "      <td>3357</td>\n",
              "      <td>24.2</td>\n",
              "      <td>1252.278889</td>\n",
              "      <td>Test</td>\n",
              "    </tr>\n",
              "    <tr>\n",
              "      <th>61</th>\n",
              "      <td>2491</td>\n",
              "      <td>10.1</td>\n",
              "      <td>834.649722</td>\n",
              "      <td>Test</td>\n",
              "    </tr>\n",
              "  </tbody>\n",
              "</table>\n",
              "<p>62 rows × 4 columns</p>\n",
              "</div>"
            ],
            "text/plain": [
              "    bike_rides_day  tavg       hs_day data_type\n",
              "0             2241  19.8   741.320833      Test\n",
              "1             2590  13.7   948.756389      Test\n",
              "2             5628  21.4  2314.441667      Test\n",
              "3             5428  20.7  2074.882222      Test\n",
              "4             4758  11.8  1732.136667      Test\n",
              "..             ...   ...          ...       ...\n",
              "57            1942  20.2   586.918333      Test\n",
              "58            2717  10.0   935.998889      Test\n",
              "59            4575  21.7  1774.550000      Test\n",
              "60            3357  24.2  1252.278889      Test\n",
              "61            2491  10.1   834.649722      Test\n",
              "\n",
              "[62 rows x 4 columns]"
            ]
          },
          "metadata": {
            "tags": []
          },
          "execution_count": 52
        }
      ]
    },
    {
      "cell_type": "code",
      "metadata": {
        "id": "xGwk-nMwomaf"
      },
      "source": [
        "# transform np.ndarray (y_pred) to a pandas.series and put a name (hs_day value)\n",
        "y2_pred_series = pd.Series(y2_pred)\n",
        "y2_pred_series.name='hs_day'"
      ],
      "execution_count": null,
      "outputs": []
    },
    {
      "cell_type": "code",
      "metadata": {
        "colab": {
          "base_uri": "https://localhost:8080/",
          "height": 404
        },
        "id": "xt-YfBtzlwc9",
        "outputId": "dab6ada6-959f-4339-ca70-2895a5c43ea3"
      },
      "source": [
        "# join in a df the X test values with y predictions\n",
        "df_pred = X2_test.join(y2_pred_series)\n",
        "df_pred['data_type'] = 'Pred'\n",
        "df_pred.reset_index(drop=True, inplace=True)\n",
        "df_pred"
      ],
      "execution_count": null,
      "outputs": [
        {
          "output_type": "execute_result",
          "data": {
            "text/html": [
              "<div>\n",
              "<style scoped>\n",
              "    .dataframe tbody tr th:only-of-type {\n",
              "        vertical-align: middle;\n",
              "    }\n",
              "\n",
              "    .dataframe tbody tr th {\n",
              "        vertical-align: top;\n",
              "    }\n",
              "\n",
              "    .dataframe thead th {\n",
              "        text-align: right;\n",
              "    }\n",
              "</style>\n",
              "<table border=\"1\" class=\"dataframe\">\n",
              "  <thead>\n",
              "    <tr style=\"text-align: right;\">\n",
              "      <th></th>\n",
              "      <th>bike_rides_day</th>\n",
              "      <th>tavg</th>\n",
              "      <th>hs_day</th>\n",
              "      <th>data_type</th>\n",
              "    </tr>\n",
              "  </thead>\n",
              "  <tbody>\n",
              "    <tr>\n",
              "      <th>0</th>\n",
              "      <td>2241</td>\n",
              "      <td>19.8</td>\n",
              "      <td>835.706284</td>\n",
              "      <td>Pred</td>\n",
              "    </tr>\n",
              "    <tr>\n",
              "      <th>1</th>\n",
              "      <td>2590</td>\n",
              "      <td>13.7</td>\n",
              "      <td>934.334257</td>\n",
              "      <td>Pred</td>\n",
              "    </tr>\n",
              "    <tr>\n",
              "      <th>2</th>\n",
              "      <td>5628</td>\n",
              "      <td>21.4</td>\n",
              "      <td>2155.248017</td>\n",
              "      <td>Pred</td>\n",
              "    </tr>\n",
              "    <tr>\n",
              "      <th>3</th>\n",
              "      <td>5428</td>\n",
              "      <td>20.7</td>\n",
              "      <td>2073.721051</td>\n",
              "      <td>Pred</td>\n",
              "    </tr>\n",
              "    <tr>\n",
              "      <th>4</th>\n",
              "      <td>4758</td>\n",
              "      <td>11.8</td>\n",
              "      <td>1761.537517</td>\n",
              "      <td>Pred</td>\n",
              "    </tr>\n",
              "    <tr>\n",
              "      <th>...</th>\n",
              "      <td>...</td>\n",
              "      <td>...</td>\n",
              "      <td>...</td>\n",
              "      <td>...</td>\n",
              "    </tr>\n",
              "    <tr>\n",
              "      <th>57</th>\n",
              "      <td>1942</td>\n",
              "      <td>20.2</td>\n",
              "      <td>722.444697</td>\n",
              "      <td>Pred</td>\n",
              "    </tr>\n",
              "    <tr>\n",
              "      <th>58</th>\n",
              "      <td>2717</td>\n",
              "      <td>10.0</td>\n",
              "      <td>961.402410</td>\n",
              "      <td>Pred</td>\n",
              "    </tr>\n",
              "    <tr>\n",
              "      <th>59</th>\n",
              "      <td>4575</td>\n",
              "      <td>21.7</td>\n",
              "      <td>1749.762361</td>\n",
              "      <td>Pred</td>\n",
              "    </tr>\n",
              "    <tr>\n",
              "      <th>60</th>\n",
              "      <td>3357</td>\n",
              "      <td>24.2</td>\n",
              "      <td>1293.571025</td>\n",
              "      <td>Pred</td>\n",
              "    </tr>\n",
              "    <tr>\n",
              "      <th>61</th>\n",
              "      <td>2491</td>\n",
              "      <td>10.1</td>\n",
              "      <td>874.587352</td>\n",
              "      <td>Pred</td>\n",
              "    </tr>\n",
              "  </tbody>\n",
              "</table>\n",
              "<p>62 rows × 4 columns</p>\n",
              "</div>"
            ],
            "text/plain": [
              "    bike_rides_day  tavg       hs_day data_type\n",
              "0             2241  19.8   835.706284      Pred\n",
              "1             2590  13.7   934.334257      Pred\n",
              "2             5628  21.4  2155.248017      Pred\n",
              "3             5428  20.7  2073.721051      Pred\n",
              "4             4758  11.8  1761.537517      Pred\n",
              "..             ...   ...          ...       ...\n",
              "57            1942  20.2   722.444697      Pred\n",
              "58            2717  10.0   961.402410      Pred\n",
              "59            4575  21.7  1749.762361      Pred\n",
              "60            3357  24.2  1293.571025      Pred\n",
              "61            2491  10.1   874.587352      Pred\n",
              "\n",
              "[62 rows x 4 columns]"
            ]
          },
          "metadata": {
            "tags": []
          },
          "execution_count": 71
        }
      ]
    },
    {
      "cell_type": "code",
      "metadata": {
        "id": "HDuYb8Dmr37F"
      },
      "source": [
        "# concatenate both df (df_test + df_pred)\n",
        "df_test_pred = pd.concat([df_test, df_pred])"
      ],
      "execution_count": null,
      "outputs": []
    },
    {
      "cell_type": "code",
      "metadata": {
        "colab": {
          "base_uri": "https://localhost:8080/",
          "height": 542
        },
        "id": "lKlkH0vOALgp",
        "outputId": "bc23cda5-7d1c-4e26-fcc7-d831141c20b0"
      },
      "source": [
        "# Build 3d graph with df_test_pred data\n",
        "import plotly.express as px\n",
        "fig = px.scatter_3d(df_test_pred,\n",
        "                    x=\"bike_rides_day\",\n",
        "                    y=\"tavg\", \n",
        "                    z=\"hs_day\",\n",
        "                    color='data_type', \n",
        "                    symbol='data_type',                                            \n",
        "                    )\n",
        "\n",
        "fig.update_layout(margin=dict(l=0, r=20, b=20, t=0))\n",
        "fig.show()"
      ],
      "execution_count": null,
      "outputs": [
        {
          "output_type": "display_data",
          "data": {
            "text/html": [
              "<html>\n",
              "<head><meta charset=\"utf-8\" /></head>\n",
              "<body>\n",
              "    <div>\n",
              "            <script src=\"https://cdnjs.cloudflare.com/ajax/libs/mathjax/2.7.5/MathJax.js?config=TeX-AMS-MML_SVG\"></script><script type=\"text/javascript\">if (window.MathJax) {MathJax.Hub.Config({SVG: {font: \"STIX-Web\"}});}</script>\n",
              "                <script type=\"text/javascript\">window.PlotlyConfig = {MathJaxConfig: 'local'};</script>\n",
              "        <script src=\"https://cdn.plot.ly/plotly-latest.min.js\"></script>    \n",
              "            <div id=\"8452542b-5c22-4933-8f7d-71a476d6f10a\" class=\"plotly-graph-div\" style=\"height:525px; width:100%;\"></div>\n",
              "            <script type=\"text/javascript\">\n",
              "                \n",
              "                    window.PLOTLYENV=window.PLOTLYENV || {};\n",
              "                    \n",
              "                if (document.getElementById(\"8452542b-5c22-4933-8f7d-71a476d6f10a\")) {\n",
              "                    Plotly.newPlot(\n",
              "                        '8452542b-5c22-4933-8f7d-71a476d6f10a',\n",
              "                        [{\"hoverlabel\": {\"namelength\": 0}, \"hovertemplate\": \"data_type=Test<br>bike_rides_day=%{x}<br>tavg=%{y}<br>hs_day=%{z}\", \"legendgroup\": \"data_type=Test\", \"marker\": {\"color\": \"#636efa\", \"symbol\": \"circle\"}, \"mode\": \"markers\", \"name\": \"data_type=Test\", \"scene\": \"scene\", \"showlegend\": true, \"type\": \"scatter3d\", \"x\": [2241, 2590, 5628, 5428, 4758, 1447, 4157, 1261, 3150, 1509, 2199, 2404, 3246, 1737, 1549, 5034, 3550, 5298, 3850, 3624, 1726, 1145, 2184, 3238, 2894, 1739, 2817, 1564, 4439, 1554, 3428, 1607, 5323, 3489, 4263, 4035, 1744, 2621, 284, 4482, 2179, 1487, 1978, 4378, 4228, 4163, 1598, 3818, 2385, 5494, 2763, 2963, 3037, 4577, 1561, 2898, 4133, 1942, 2717, 4575, 3357, 2491], \"y\": [19.8, 13.7, 21.4, 20.7, 11.8, 21.1, 17.2, 23.3, 8.6, 25.4, 19.2, 12.6, 19.3, 25.4, 25.4, 21.2, 11.9, 12.3, 10.2, 10.7, 11.8, 25.4, 24.1, 22.9, 24.4, 29.2, 22.7, 23.3, 12.4, 16.7, 19.5, 22.4, 16.9, 23.1, 19.0, 17.7, 24.9, 20.4, 21.6, 12.8, 28.1, 27.3, 13.4, 12.3, 18.3, 15.6, 20.2, 7.8, 28.9, 14.2, 20.1, 17.1, 20.2, 13.1, 25.4, 25.8, 10.2, 20.2, 10.0, 21.7, 24.2, 10.1], \"z\": [741.3208333333333, 948.7563888888888, 2314.4416666666666, 2074.882222222222, 1732.1366666666668, 645.9425, 1493.5405555555553, 728.5030555555555, 1251.5936111111114, 664.1075, 851.2952777777778, 811.5383333333333, 983.8433333333335, 732.9241666666667, 638.7086111111112, 1975.3722222222225, 1206.7425, 1936.3775, 1349.6252777777775, 1296.8258333333333, 647.8561111111111, 487.4294444444445, 853.5975, 1241.8113888888888, 882.7008333333333, 738.0769444444444, 858.8633333333332, 677.0430555555556, 1675.105833333333, 606.0308333333334, 1205.4222222222222, 657.4963888888889, 2050.8494444444445, 1367.6441666666667, 1640.5147222222222, 1510.3144444444447, 756.5713888888888, 779.9858333333333, 94.87305555555555, 1670.3561111111112, 934.7877777777777, 655.9511111111111, 680.5472222222222, 1575.5455555555554, 1540.3136111111112, 1427.503888888889, 690.6302777777777, 1340.5866666666666, 982.9663888888887, 2059.5466666666666, 838.2361111111112, 870.6513888888887, 1114.2955555555557, 1619.9538888888887, 671.6380555555555, 1131.1708333333333, 1472.2894444444446, 586.9183333333333, 935.9988888888887, 1774.55, 1252.2788888888888, 834.6497222222223]}, {\"hoverlabel\": {\"namelength\": 0}, \"hovertemplate\": \"data_type=Pred<br>bike_rides_day=%{x}<br>tavg=%{y}<br>hs_day=%{z}\", \"legendgroup\": \"data_type=Pred\", \"marker\": {\"color\": \"#EF553B\", \"symbol\": \"diamond\"}, \"mode\": \"markers\", \"name\": \"data_type=Pred\", \"scene\": \"scene\", \"showlegend\": true, \"type\": \"scatter3d\", \"x\": [2241, 2590, 5628, 5428, 4758, 1447, 4157, 1261, 3150, 1509, 2199, 2404, 3246, 1737, 1549, 5034, 3550, 5298, 3850, 3624, 1726, 1145, 2184, 3238, 2894, 1739, 2817, 1564, 4439, 1554, 3428, 1607, 5323, 3489, 4263, 4035, 1744, 2621, 284, 4482, 2179, 1487, 1978, 4378, 4228, 4163, 1598, 3818, 2385, 5494, 2763, 2963, 3037, 4577, 1561, 2898, 4133, 1942, 2717, 4575, 3357, 2491], \"y\": [19.8, 13.7, 21.4, 20.7, 11.8, 21.1, 17.2, 23.3, 8.6, 25.4, 19.2, 12.6, 19.3, 25.4, 25.4, 21.2, 11.9, 12.3, 10.2, 10.7, 11.8, 25.4, 24.1, 22.9, 24.4, 29.2, 22.7, 23.3, 12.4, 16.7, 19.5, 22.4, 16.9, 23.1, 19.0, 17.7, 24.9, 20.4, 21.6, 12.8, 28.1, 27.3, 13.4, 12.3, 18.3, 15.6, 20.2, 7.8, 28.9, 14.2, 20.1, 17.1, 20.2, 13.1, 25.4, 25.8, 10.2, 20.2, 10.0, 21.7, 24.2, 10.1], \"z\": [835.706284172858, 934.3342574401165, 2155.248016776477, 2073.721050567842, 1761.5375173560951, 536.3553150015971, 1561.2702976723833, 477.52736884143974, 1120.531735871666, 585.9636014451962, 815.8857138739253, 855.8381117128657, 1221.4347464134341, 674.148214664089, 601.4345862204405, 1924.3118807691233, 1294.909783191203, 1973.3758420593324, 1400.8100661982453, 1316.3790324555528, 588.8368713925722, 445.17763999047247, 839.288390910105, 1239.7967671679419, 1115.6863888131554, 697.569993707383, 1075.7726403135196, 594.720078513916, 1641.7324500584475, 551.5159331859178, 1293.0197392357713, 605.9873327199144, 2010.4614857282938, 1338.0692087275756, 1612.9965161815592, 1517.0638243453263, 673.8756067623184, 986.2566758226055, 89.5164628988056, 1660.747782881786, 861.1947597127066, 588.7786747210777, 695.8401722364147, 1617.543192228712, 1595.2873621708065, 1554.0548486288671, 589.3942281007555, 1374.1291332383453, 945.6383796851167, 2060.507782360296, 1039.39065363226, 1098.8653960838512, 1145.9629053901715, 1699.2793898654543, 606.0758816530138, 1125.5775719555074, 1510.2672834830992, 722.4446971678569, 961.4024103444733, 1749.7623607106325, 1293.5710254916337, 874.5873524118302]}],\n",
              "                        {\"legend\": {\"tracegroupgap\": 0}, \"margin\": {\"b\": 20, \"l\": 0, \"r\": 20, \"t\": 0}, \"scene\": {\"domain\": {\"x\": [0.0, 1.0], \"y\": [0.0, 1.0]}, \"xaxis\": {\"title\": {\"text\": \"bike_rides_day\"}}, \"yaxis\": {\"title\": {\"text\": \"tavg\"}}, \"zaxis\": {\"title\": {\"text\": \"hs_day\"}}}, \"template\": {\"data\": {\"bar\": [{\"error_x\": {\"color\": \"#2a3f5f\"}, \"error_y\": {\"color\": \"#2a3f5f\"}, \"marker\": {\"line\": {\"color\": \"#E5ECF6\", \"width\": 0.5}}, \"type\": \"bar\"}], \"barpolar\": [{\"marker\": {\"line\": {\"color\": \"#E5ECF6\", \"width\": 0.5}}, \"type\": \"barpolar\"}], \"carpet\": [{\"aaxis\": {\"endlinecolor\": \"#2a3f5f\", \"gridcolor\": \"white\", \"linecolor\": \"white\", \"minorgridcolor\": \"white\", \"startlinecolor\": \"#2a3f5f\"}, \"baxis\": {\"endlinecolor\": \"#2a3f5f\", \"gridcolor\": \"white\", \"linecolor\": \"white\", \"minorgridcolor\": \"white\", \"startlinecolor\": \"#2a3f5f\"}, \"type\": \"carpet\"}], \"choropleth\": [{\"colorbar\": {\"outlinewidth\": 0, \"ticks\": \"\"}, \"type\": \"choropleth\"}], \"contour\": [{\"colorbar\": {\"outlinewidth\": 0, \"ticks\": \"\"}, \"colorscale\": [[0.0, \"#0d0887\"], [0.1111111111111111, \"#46039f\"], [0.2222222222222222, \"#7201a8\"], [0.3333333333333333, \"#9c179e\"], [0.4444444444444444, \"#bd3786\"], [0.5555555555555556, \"#d8576b\"], [0.6666666666666666, \"#ed7953\"], [0.7777777777777778, \"#fb9f3a\"], [0.8888888888888888, \"#fdca26\"], [1.0, \"#f0f921\"]], \"type\": \"contour\"}], \"contourcarpet\": [{\"colorbar\": {\"outlinewidth\": 0, \"ticks\": \"\"}, \"type\": \"contourcarpet\"}], \"heatmap\": [{\"colorbar\": {\"outlinewidth\": 0, \"ticks\": \"\"}, \"colorscale\": [[0.0, \"#0d0887\"], [0.1111111111111111, \"#46039f\"], [0.2222222222222222, \"#7201a8\"], [0.3333333333333333, \"#9c179e\"], [0.4444444444444444, \"#bd3786\"], [0.5555555555555556, \"#d8576b\"], [0.6666666666666666, \"#ed7953\"], [0.7777777777777778, \"#fb9f3a\"], [0.8888888888888888, \"#fdca26\"], [1.0, \"#f0f921\"]], \"type\": \"heatmap\"}], \"heatmapgl\": [{\"colorbar\": {\"outlinewidth\": 0, \"ticks\": \"\"}, \"colorscale\": [[0.0, \"#0d0887\"], [0.1111111111111111, \"#46039f\"], [0.2222222222222222, \"#7201a8\"], [0.3333333333333333, \"#9c179e\"], [0.4444444444444444, \"#bd3786\"], [0.5555555555555556, \"#d8576b\"], [0.6666666666666666, \"#ed7953\"], [0.7777777777777778, \"#fb9f3a\"], [0.8888888888888888, \"#fdca26\"], [1.0, \"#f0f921\"]], \"type\": \"heatmapgl\"}], \"histogram\": [{\"marker\": {\"colorbar\": {\"outlinewidth\": 0, \"ticks\": \"\"}}, \"type\": \"histogram\"}], \"histogram2d\": [{\"colorbar\": {\"outlinewidth\": 0, \"ticks\": \"\"}, \"colorscale\": [[0.0, \"#0d0887\"], [0.1111111111111111, \"#46039f\"], [0.2222222222222222, \"#7201a8\"], [0.3333333333333333, \"#9c179e\"], [0.4444444444444444, \"#bd3786\"], [0.5555555555555556, \"#d8576b\"], [0.6666666666666666, \"#ed7953\"], [0.7777777777777778, \"#fb9f3a\"], [0.8888888888888888, \"#fdca26\"], [1.0, \"#f0f921\"]], \"type\": \"histogram2d\"}], \"histogram2dcontour\": [{\"colorbar\": {\"outlinewidth\": 0, \"ticks\": \"\"}, \"colorscale\": [[0.0, \"#0d0887\"], [0.1111111111111111, \"#46039f\"], [0.2222222222222222, \"#7201a8\"], [0.3333333333333333, \"#9c179e\"], [0.4444444444444444, \"#bd3786\"], [0.5555555555555556, \"#d8576b\"], [0.6666666666666666, \"#ed7953\"], [0.7777777777777778, \"#fb9f3a\"], [0.8888888888888888, \"#fdca26\"], [1.0, \"#f0f921\"]], \"type\": \"histogram2dcontour\"}], \"mesh3d\": [{\"colorbar\": {\"outlinewidth\": 0, \"ticks\": \"\"}, \"type\": \"mesh3d\"}], \"parcoords\": [{\"line\": {\"colorbar\": {\"outlinewidth\": 0, \"ticks\": \"\"}}, \"type\": \"parcoords\"}], \"pie\": [{\"automargin\": true, \"type\": \"pie\"}], \"scatter\": [{\"marker\": {\"colorbar\": {\"outlinewidth\": 0, \"ticks\": \"\"}}, \"type\": \"scatter\"}], \"scatter3d\": [{\"line\": {\"colorbar\": {\"outlinewidth\": 0, \"ticks\": \"\"}}, \"marker\": {\"colorbar\": {\"outlinewidth\": 0, \"ticks\": \"\"}}, \"type\": \"scatter3d\"}], \"scattercarpet\": [{\"marker\": {\"colorbar\": {\"outlinewidth\": 0, \"ticks\": \"\"}}, \"type\": \"scattercarpet\"}], \"scattergeo\": [{\"marker\": {\"colorbar\": {\"outlinewidth\": 0, \"ticks\": \"\"}}, \"type\": \"scattergeo\"}], \"scattergl\": [{\"marker\": {\"colorbar\": {\"outlinewidth\": 0, \"ticks\": \"\"}}, \"type\": \"scattergl\"}], \"scattermapbox\": [{\"marker\": {\"colorbar\": {\"outlinewidth\": 0, \"ticks\": \"\"}}, \"type\": \"scattermapbox\"}], \"scatterpolar\": [{\"marker\": {\"colorbar\": {\"outlinewidth\": 0, \"ticks\": \"\"}}, \"type\": \"scatterpolar\"}], \"scatterpolargl\": [{\"marker\": {\"colorbar\": {\"outlinewidth\": 0, \"ticks\": \"\"}}, \"type\": \"scatterpolargl\"}], \"scatterternary\": [{\"marker\": {\"colorbar\": {\"outlinewidth\": 0, \"ticks\": \"\"}}, \"type\": \"scatterternary\"}], \"surface\": [{\"colorbar\": {\"outlinewidth\": 0, \"ticks\": \"\"}, \"colorscale\": [[0.0, \"#0d0887\"], [0.1111111111111111, \"#46039f\"], [0.2222222222222222, \"#7201a8\"], [0.3333333333333333, \"#9c179e\"], [0.4444444444444444, \"#bd3786\"], [0.5555555555555556, \"#d8576b\"], [0.6666666666666666, \"#ed7953\"], [0.7777777777777778, \"#fb9f3a\"], [0.8888888888888888, \"#fdca26\"], [1.0, \"#f0f921\"]], \"type\": \"surface\"}], \"table\": [{\"cells\": {\"fill\": {\"color\": \"#EBF0F8\"}, \"line\": {\"color\": \"white\"}}, \"header\": {\"fill\": {\"color\": \"#C8D4E3\"}, \"line\": {\"color\": \"white\"}}, \"type\": \"table\"}]}, \"layout\": {\"annotationdefaults\": {\"arrowcolor\": \"#2a3f5f\", \"arrowhead\": 0, \"arrowwidth\": 1}, \"coloraxis\": {\"colorbar\": {\"outlinewidth\": 0, \"ticks\": \"\"}}, \"colorscale\": {\"diverging\": [[0, \"#8e0152\"], [0.1, \"#c51b7d\"], [0.2, \"#de77ae\"], [0.3, \"#f1b6da\"], [0.4, \"#fde0ef\"], [0.5, \"#f7f7f7\"], [0.6, \"#e6f5d0\"], [0.7, \"#b8e186\"], [0.8, \"#7fbc41\"], [0.9, \"#4d9221\"], [1, \"#276419\"]], \"sequential\": [[0.0, \"#0d0887\"], [0.1111111111111111, \"#46039f\"], [0.2222222222222222, \"#7201a8\"], [0.3333333333333333, \"#9c179e\"], [0.4444444444444444, \"#bd3786\"], [0.5555555555555556, \"#d8576b\"], [0.6666666666666666, \"#ed7953\"], [0.7777777777777778, \"#fb9f3a\"], [0.8888888888888888, \"#fdca26\"], [1.0, \"#f0f921\"]], \"sequentialminus\": [[0.0, \"#0d0887\"], [0.1111111111111111, \"#46039f\"], [0.2222222222222222, \"#7201a8\"], [0.3333333333333333, \"#9c179e\"], [0.4444444444444444, \"#bd3786\"], [0.5555555555555556, \"#d8576b\"], [0.6666666666666666, \"#ed7953\"], [0.7777777777777778, \"#fb9f3a\"], [0.8888888888888888, \"#fdca26\"], [1.0, \"#f0f921\"]]}, \"colorway\": [\"#636efa\", \"#EF553B\", \"#00cc96\", \"#ab63fa\", \"#FFA15A\", \"#19d3f3\", \"#FF6692\", \"#B6E880\", \"#FF97FF\", \"#FECB52\"], \"font\": {\"color\": \"#2a3f5f\"}, \"geo\": {\"bgcolor\": \"white\", \"lakecolor\": \"white\", \"landcolor\": \"#E5ECF6\", \"showlakes\": true, \"showland\": true, \"subunitcolor\": \"white\"}, \"hoverlabel\": {\"align\": \"left\"}, \"hovermode\": \"closest\", \"mapbox\": {\"style\": \"light\"}, \"paper_bgcolor\": \"white\", \"plot_bgcolor\": \"#E5ECF6\", \"polar\": {\"angularaxis\": {\"gridcolor\": \"white\", \"linecolor\": \"white\", \"ticks\": \"\"}, \"bgcolor\": \"#E5ECF6\", \"radialaxis\": {\"gridcolor\": \"white\", \"linecolor\": \"white\", \"ticks\": \"\"}}, \"scene\": {\"xaxis\": {\"backgroundcolor\": \"#E5ECF6\", \"gridcolor\": \"white\", \"gridwidth\": 2, \"linecolor\": \"white\", \"showbackground\": true, \"ticks\": \"\", \"zerolinecolor\": \"white\"}, \"yaxis\": {\"backgroundcolor\": \"#E5ECF6\", \"gridcolor\": \"white\", \"gridwidth\": 2, \"linecolor\": \"white\", \"showbackground\": true, \"ticks\": \"\", \"zerolinecolor\": \"white\"}, \"zaxis\": {\"backgroundcolor\": \"#E5ECF6\", \"gridcolor\": \"white\", \"gridwidth\": 2, \"linecolor\": \"white\", \"showbackground\": true, \"ticks\": \"\", \"zerolinecolor\": \"white\"}}, \"shapedefaults\": {\"line\": {\"color\": \"#2a3f5f\"}}, \"ternary\": {\"aaxis\": {\"gridcolor\": \"white\", \"linecolor\": \"white\", \"ticks\": \"\"}, \"baxis\": {\"gridcolor\": \"white\", \"linecolor\": \"white\", \"ticks\": \"\"}, \"bgcolor\": \"#E5ECF6\", \"caxis\": {\"gridcolor\": \"white\", \"linecolor\": \"white\", \"ticks\": \"\"}}, \"title\": {\"x\": 0.05}, \"xaxis\": {\"automargin\": true, \"gridcolor\": \"white\", \"linecolor\": \"white\", \"ticks\": \"\", \"title\": {\"standoff\": 15}, \"zerolinecolor\": \"white\", \"zerolinewidth\": 2}, \"yaxis\": {\"automargin\": true, \"gridcolor\": \"white\", \"linecolor\": \"white\", \"ticks\": \"\", \"title\": {\"standoff\": 15}, \"zerolinecolor\": \"white\", \"zerolinewidth\": 2}}}},\n",
              "                        {\"responsive\": true}\n",
              "                    ).then(function(){\n",
              "                            \n",
              "var gd = document.getElementById('8452542b-5c22-4933-8f7d-71a476d6f10a');\n",
              "var x = new MutationObserver(function (mutations, observer) {{\n",
              "        var display = window.getComputedStyle(gd).display;\n",
              "        if (!display || display === 'none') {{\n",
              "            console.log([gd, 'removed!']);\n",
              "            Plotly.purge(gd);\n",
              "            observer.disconnect();\n",
              "        }}\n",
              "}});\n",
              "\n",
              "// Listen for the removal of the full notebook cells\n",
              "var notebookContainer = gd.closest('#notebook-container');\n",
              "if (notebookContainer) {{\n",
              "    x.observe(notebookContainer, {childList: true});\n",
              "}}\n",
              "\n",
              "// Listen for the clearing of the current output cell\n",
              "var outputEl = gd.closest('.output');\n",
              "if (outputEl) {{\n",
              "    x.observe(outputEl, {childList: true});\n",
              "}}\n",
              "\n",
              "                        })\n",
              "                };\n",
              "                \n",
              "            </script>\n",
              "        </div>\n",
              "</body>\n",
              "</html>"
            ]
          },
          "metadata": {
            "tags": []
          }
        }
      ]
    }
  ]
}